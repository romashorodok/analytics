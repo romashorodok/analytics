{
 "cells": [
  {
   "cell_type": "code",
   "execution_count": 55,
   "metadata": {},
   "outputs": [],
   "source": [
    "import zipfile\n",
    "from seeder import EcommerceSeeder"
   ]
  },
  {
   "cell_type": "code",
   "execution_count": 56,
   "metadata": {},
   "outputs": [],
   "source": [
    "with zipfile.ZipFile(\"dataset.zip\") as zip:\n",
    "  zip.extractall(\"dataset\")"
   ]
  },
  {
   "cell_type": "code",
   "execution_count": 51,
   "metadata": {},
   "outputs": [],
   "source": [
    "tables = {\n",
    "  \"customers\": \"dataset/olist_customers_dataset.csv\",\n",
    "  \"geolocation\": \"dataset/olist_geolocation_dataset.csv\",\n",
    "  \"order_items\": \"dataset/olist_order_items_dataset.csv\",\n",
    "  \"order_payments\": \"dataset/olist_order_payments_dataset.csv\",\n",
    "  \"order_reviews\": \"dataset/olist_order_reviews_dataset.csv\",\n",
    "  \"orders\": \"dataset/olist_orders_dataset.csv\",\n",
    "  \"products\": \"dataset/olist_products_dataset.csv\",\n",
    "  \"sellers\": \"dataset/olist_sellers_dataset.csv\",\n",
    "  \"products\": \"dataset/product_category_name_translation.csv\",\n",
    "}"
   ]
  },
  {
   "cell_type": "code",
   "execution_count": 57,
   "metadata": {},
   "outputs": [
    {
     "name": "stdout",
     "output_type": "stream",
     "text": [
      "Order(order_id='93ae31ba-4e55-436f-96cd-61e5793d2fd9', customer_id='d829c6a67a93d7fc7f62dd56abbcc4de', order_status='delivered', order_purchase_timestamp='2018-02-22 19:04:46', order_approved_at='2018-02-22 19:15:32', order_delivered_carrier_date='2018-02-23 22:38:05', order_delivered_customer_date='2018-03-17 13:07:53', order_estimated_delivery_date='2018-03-14 00:00:00', items=[OrderItem(order_id='93ae31ba-4e55-436f-96cd-61e5793d2fd9', order_item_id='245219eb-3041-41af-9314-cbd0541b9ff5', product_id='5f42d57952b7815098979a5c4fa6f82a', seller_id='c70c1b0d8ca86052f45a432a38b73958', shipping_limit_date='2018-05-10 13:30:50', price=110.32, freight_value=7.64)], payment_details=[PaymentDetail(order_id='93ae31ba-4e55-436f-96cd-61e5793d2fd9', payment_sequential=3, payment_type='credit_card', payment_installments=2, payment_value=20.98), PaymentDetail(order_id='93ae31ba-4e55-436f-96cd-61e5793d2fd9', payment_sequential=4, payment_type='credit_card', payment_installments=6, payment_value=297.69)], review=Review(review_id='687dc282-c187-459b-9e30-2b173c37abdf', order_id='93ae31ba-4e55-436f-96cd-61e5793d2fd9', review_score=3, review_comment_title=nan, review_comment_message=nan, review_creation_date='2018-07-05 00:00:00', review_answer_timestamp='2018-07-09 12:19:47'))\n",
      "Order(order_id='ec363fe6-c867-4162-9557-20b060e814fb', customer_id='25cbfaec7f0205546df52d98b9d7008d', order_status='delivered', order_purchase_timestamp='2017-02-23 14:07:48', order_approved_at='2017-02-23 14:21:54', order_delivered_carrier_date='2017-03-01 16:14:03', order_delivered_customer_date='2017-03-17 10:48:41', order_estimated_delivery_date='2017-03-27 00:00:00', items=[OrderItem(order_id='ec363fe6-c867-4162-9557-20b060e814fb', order_item_id='6a142517-a613-412f-8ec4-2ddd4a4c2f29', product_id='9b1954fdd0f9b4ef4ee2d267ac9de4bd', seller_id='f7ba60f8c3f99e7ee4042fdef03b70c4', shipping_limit_date='2018-07-20 04:31:53', price=53.0, freight_value=1.48)], payment_details=[PaymentDetail(order_id='ec363fe6-c867-4162-9557-20b060e814fb', payment_sequential=5, payment_type='credit_card', payment_installments=1, payment_value=293.36), PaymentDetail(order_id='ec363fe6-c867-4162-9557-20b060e814fb', payment_sequential=1, payment_type='credit_card', payment_installments=1, payment_value=47.53)], review=Review(review_id='c2087d33-b3fe-463c-a6d9-1d840c0b0ae0', order_id='ec363fe6-c867-4162-9557-20b060e814fb', review_score=1, review_comment_title=nan, review_comment_message=nan, review_creation_date='2018-01-25 00:00:00', review_answer_timestamp='2018-01-27 20:02:14'))\n",
      "Order(order_id='1f554ee8-06cb-4adc-aeb8-0707cddd790a', customer_id='cd5e39e7ad16fd972969901c9f95a553', order_status='delivered', order_purchase_timestamp='2018-01-27 13:03:13', order_approved_at='2018-01-30 05:31:54', order_delivered_carrier_date='2018-01-31 17:16:46', order_delivered_customer_date='2018-02-06 16:42:37', order_estimated_delivery_date='2018-02-20 00:00:00', items=[OrderItem(order_id='1f554ee8-06cb-4adc-aeb8-0707cddd790a', order_item_id='86cbe54b-0166-4198-90b3-872f91da2710', product_id='781afe929e3016a667f5f439afd55fce', seller_id='08633c14ef2db992c11f840f04fad4cd', shipping_limit_date='2018-08-09 04:10:21', price=109.7, freight_value=37.68)], payment_details=[PaymentDetail(order_id='1f554ee8-06cb-4adc-aeb8-0707cddd790a', payment_sequential=3, payment_type='credit_card', payment_installments=2, payment_value=67.23), PaymentDetail(order_id='1f554ee8-06cb-4adc-aeb8-0707cddd790a', payment_sequential=5, payment_type='credit_card', payment_installments=1, payment_value=75.07)], review=Review(review_id='f2e36af7-a273-469b-a3cb-f37dc91ca45a', order_id='1f554ee8-06cb-4adc-aeb8-0707cddd790a', review_score=4, review_comment_title=nan, review_comment_message='Bom dia!\\r\\n\\r\\nAo abrir a caixa, verifiquei que o pedido Brinco De Gancho Pendurado Chapeado De Prata Cristal Orelha Prata 5 estava faltando e estava sendo especificado na nota fiscal.', review_creation_date='2018-04-11 00:00:00', review_answer_timestamp='2018-04-19 15:30:14'))\n",
      "Order(order_id='4e4c5459-fb5b-4068-b521-cce024677864', customer_id='784fd050a4f5ccc4f971ce1e3c97276b', order_status='delivered', order_purchase_timestamp='2018-04-30 12:25:36', order_approved_at='2018-04-30 12:54:03', order_delivered_carrier_date='2018-04-30 15:24:00', order_delivered_customer_date='2018-05-09 21:31:32', order_estimated_delivery_date='2018-05-24 00:00:00', items=[OrderItem(order_id='4e4c5459-fb5b-4068-b521-cce024677864', order_item_id='c8dfa562-3cc7-4920-adb4-034edea88660', product_id='18796df281656da4036dd926561a6030', seller_id='cca3071e3e9bb7d12640c9fbe2301306', shipping_limit_date='2017-10-19 12:14:30', price=75.78, freight_value=15.28)], payment_details=[PaymentDetail(order_id='4e4c5459-fb5b-4068-b521-cce024677864', payment_sequential=5, payment_type='boleto', payment_installments=1, payment_value=73.92)], review=Review(review_id='47d8df65-5b0f-4896-a30d-615e6974e585', order_id='4e4c5459-fb5b-4068-b521-cce024677864', review_score=1, review_comment_title=nan, review_comment_message=nan, review_creation_date='2018-08-21 00:00:00', review_answer_timestamp='2018-08-21 15:13:50'))\n",
      "Order(order_id='03514a04-fa40-4e4f-85bf-7f11c8099d11', customer_id='1fcce9fceb2f6c8a555ef9fd999086d6', order_status='delivered', order_purchase_timestamp='2018-08-17 09:43:24', order_approved_at='2018-08-18 03:09:32', order_delivered_carrier_date='2018-08-20 11:04:00', order_delivered_customer_date='2018-08-27 16:11:28', order_estimated_delivery_date='2018-09-12 00:00:00', items=[OrderItem(order_id='03514a04-fa40-4e4f-85bf-7f11c8099d11', order_item_id='ad6e1727-5bb4-47d4-9996-6ee3e9700f72', product_id='afdb767518be8262cd10a02f08c15a9a', seller_id='55c96925041a14097b6a7825554f4ad5', shipping_limit_date='2017-06-14 23:15:11', price=26.0, freight_value=9.34)], payment_details=[PaymentDetail(order_id='03514a04-fa40-4e4f-85bf-7f11c8099d11', payment_sequential=2, payment_type='credit_card', payment_installments=2, payment_value=75.07)], review=Review(review_id='f04e089c-0595-4786-b147-8e13dd98978c', order_id='03514a04-fa40-4e4f-85bf-7f11c8099d11', review_score=5, review_comment_title=nan, review_comment_message=nan, review_creation_date='2018-07-03 00:00:00', review_answer_timestamp='2018-07-03 18:46:15'))\n",
      "Order(order_id='eec10e34-5653-43a5-af67-453baef35f7f', customer_id='3a2af5f4c23dff0cf1ddb8fc10e2ca8b', order_status='delivered', order_purchase_timestamp='2018-05-06 22:09:49', order_approved_at='2018-05-08 04:55:05', order_delivered_carrier_date='2018-05-08 13:08:00', order_delivered_customer_date='2018-05-11 17:02:37', order_estimated_delivery_date='2018-06-01 00:00:00', items=[OrderItem(order_id='eec10e34-5653-43a5-af67-453baef35f7f', order_item_id='ebb6cf87-ed70-4ca6-8860-4b72a422d4d5', product_id='dc9471db933efad7bf0ce685380578bd', seller_id='25c5c91f63607446a97b143d2d535d31', shipping_limit_date='2017-11-30 05:50:02', price=277.0, freight_value=19.19), OrderItem(order_id='eec10e34-5653-43a5-af67-453baef35f7f', order_item_id='c3ddb72f-09b9-4937-98b5-fb93c021567e', product_id='bc055ae94989497c0d66bfa4263ccf61', seller_id='8e6d7754bc7e0f22c96d255ebda59eba', shipping_limit_date='2018-01-23 20:35:22', price=70.89, freight_value=12.84)], payment_details=[PaymentDetail(order_id='eec10e34-5653-43a5-af67-453baef35f7f', payment_sequential=2, payment_type='credit_card', payment_installments=4, payment_value=170.96), PaymentDetail(order_id='eec10e34-5653-43a5-af67-453baef35f7f', payment_sequential=3, payment_type='credit_card', payment_installments=6, payment_value=65.5)], review=Review(review_id='498c72bf-c1d6-43ca-a330-b8a6951bbeec', order_id='eec10e34-5653-43a5-af67-453baef35f7f', review_score=3, review_comment_title=nan, review_comment_message=nan, review_creation_date='2018-04-03 00:00:00', review_answer_timestamp='2018-04-11 21:20:01'))\n",
      "Order(order_id='fa6d143c-74bb-486a-acf1-33e5cc28fe44', customer_id='023a4933b90ba7307557b24adbe6f49a', order_status='delivered', order_purchase_timestamp='2017-09-27 15:13:00', order_approved_at='2017-09-27 15:28:16', order_delivered_carrier_date='2017-10-03 16:38:40', order_delivered_customer_date='2017-10-06 22:55:29', order_estimated_delivery_date='2017-10-19 00:00:00', items=[OrderItem(order_id='fa6d143c-74bb-486a-acf1-33e5cc28fe44', order_item_id='83451476-462c-4147-bc00-e2fb3bd13753', product_id='b99e4f4fa3f421e0ffbd512d9f152dec', seller_id='128639473a139ac0f3e5f5ade55873a5', shipping_limit_date='2018-01-16 18:51:31', price=19.9, freight_value=42.38), OrderItem(order_id='fa6d143c-74bb-486a-acf1-33e5cc28fe44', order_item_id='7fb3f2d5-9419-4cae-9b7d-eb3ab6a144d7', product_id='0ad6795586afdad1281b3884f2611ca6', seller_id='bdae679a9b282249bc23b9b69dae9a99', shipping_limit_date='2018-08-23 12:25:19', price=16.8, freight_value=4.2)], payment_details=[PaymentDetail(order_id='fa6d143c-74bb-486a-acf1-33e5cc28fe44', payment_sequential=2, payment_type='credit_card', payment_installments=2, payment_value=128.1)], review=Review(review_id='253444b1-dc3f-4410-bbb4-9d81c9d8b0f8', order_id='fa6d143c-74bb-486a-acf1-33e5cc28fe44', review_score=3, review_comment_title=nan, review_comment_message=nan, review_creation_date='2018-07-14 00:00:00', review_answer_timestamp='2018-07-14 23:23:27'))\n",
      "Order(order_id='f27c8b23-9f08-4f2f-b976-8b5d3acecd38', customer_id='ea58ba76f07c7e170630ae1ef2c7b66a', order_status='delivered', order_purchase_timestamp='2017-02-21 21:50:47', order_approved_at='2017-02-21 22:02:21', order_delivered_carrier_date='2017-02-23 12:09:38', order_delivered_customer_date='2017-03-07 14:33:27', order_estimated_delivery_date='2017-03-28 00:00:00', items=[OrderItem(order_id='f27c8b23-9f08-4f2f-b976-8b5d3acecd38', order_item_id='6e77b4bd-7f99-4906-a056-5470d9e180ff', product_id='4945f34d8df378693f6b84c437b414dc', seller_id='0241d4d5d36f10f80c644447315af0bd', shipping_limit_date='2017-11-17 01:46:36', price=199.0, freight_value=26.43)], payment_details=[PaymentDetail(order_id='f27c8b23-9f08-4f2f-b976-8b5d3acecd38', payment_sequential=1, payment_type='boleto', payment_installments=1, payment_value=143.49), PaymentDetail(order_id='f27c8b23-9f08-4f2f-b976-8b5d3acecd38', payment_sequential=5, payment_type='credit_card', payment_installments=1, payment_value=46.56)], review=Review(review_id='115d4a5d-33b8-4ad5-9c5b-ad661ad8b8bb', order_id='f27c8b23-9f08-4f2f-b976-8b5d3acecd38', review_score=5, review_comment_title=nan, review_comment_message='Um dos pes da pelúcia veio com uma mancha escura de sujeira. No mais o produto está em boas condições. ', review_creation_date='2018-05-22 00:00:00', review_answer_timestamp='2018-05-23 11:46:17'))\n",
      "Order(order_id='c9127a0a-89c8-41b3-9e99-c7e43362a67b', customer_id='8ce461860e68eaf6e71c27fe009faac2', order_status='delivered', order_purchase_timestamp='2018-04-05 20:11:00', order_approved_at='2018-04-05 20:29:10', order_delivered_carrier_date='2018-04-06 23:41:57', order_delivered_customer_date='2018-04-11 00:47:29', order_estimated_delivery_date='2018-04-17 00:00:00', items=[OrderItem(order_id='c9127a0a-89c8-41b3-9e99-c7e43362a67b', order_item_id='38f29df8-505e-461c-9870-4c8c5ed1231f', product_id='0ea678faa34b54418a17e76511472882', seller_id='3935fe5fe0f82787a9dcb8deb62be09d', shipping_limit_date='2018-08-30 16:15:16', price=112.99, freight_value=15.18), OrderItem(order_id='c9127a0a-89c8-41b3-9e99-c7e43362a67b', order_item_id='8e384375-4e13-44ae-934d-02f47881e416', product_id='fb32a0ce23fd67b9db45a4fbd9dde211', seller_id='7008613ea464bad5cb9b83456e1e6a8f', shipping_limit_date='2017-06-21 17:42:46', price=57.5, freight_value=25.24), OrderItem(order_id='c9127a0a-89c8-41b3-9e99-c7e43362a67b', order_item_id='20dd48a3-a953-438d-bd70-b03a3a720e86', product_id='40562621def0bbc3080d94f54b9d1f61', seller_id='1835b56ce799e6a4dc4eddc053f04066', shipping_limit_date='2018-01-23 12:50:06', price=76.5, freight_value=12.88)], payment_details=[PaymentDetail(order_id='c9127a0a-89c8-41b3-9e99-c7e43362a67b', payment_sequential=1, payment_type='credit_card', payment_installments=8, payment_value=405.43), PaymentDetail(order_id='c9127a0a-89c8-41b3-9e99-c7e43362a67b', payment_sequential=2, payment_type='credit_card', payment_installments=2, payment_value=26.28)], review=Review(review_id='589a6019-154b-4d6a-9794-f5d70c46dd13', order_id='c9127a0a-89c8-41b3-9e99-c7e43362a67b', review_score=3, review_comment_title=nan, review_comment_message=nan, review_creation_date='2018-03-14 00:00:00', review_answer_timestamp='2018-03-15 12:57:41'))\n",
      "Order(order_id='1e8bcdc3-7d7d-4e8f-9310-13d5853d35c3', customer_id='d8fae274759d18fa94cc3a93590abbf5', order_status='delivered', order_purchase_timestamp='2017-12-26 05:53:05', order_approved_at='2017-12-28 02:37:35', order_delivered_carrier_date='2017-12-28 18:49:16', order_delivered_customer_date='2018-01-03 17:07:29', order_estimated_delivery_date='2018-01-23 00:00:00', items=[OrderItem(order_id='1e8bcdc3-7d7d-4e8f-9310-13d5853d35c3', order_item_id='f919fc6e-3fe5-40b8-ad0f-8c2438fee3e3', product_id='2136c70bbe723d338fab53da3c03e6dc', seller_id='6560211a19b47992c3666cc44a7e94c0', shipping_limit_date='2017-06-12 10:15:10', price=29.0, freight_value=21.15), OrderItem(order_id='1e8bcdc3-7d7d-4e8f-9310-13d5853d35c3', order_item_id='73416bfe-c4a4-4a49-aba5-b86275c2d9b3', product_id='02a79d79e818ad0be36cfc843a6af7ad', seller_id='cb3dd9ce66268c7a3ca7241ac70ab58c', shipping_limit_date='2017-03-07 19:30:13', price=28.99, freight_value=14.11), OrderItem(order_id='1e8bcdc3-7d7d-4e8f-9310-13d5853d35c3', order_item_id='c8d434dd-fdb9-402e-8720-6ed8cb144e3d', product_id='53b36df67ebb7c41585e8d54d6772e08', seller_id='7d13fca15225358621be4086e1eb0964', shipping_limit_date='2018-05-08 20:53:47', price=99.9, freight_value=0.0)], payment_details=[PaymentDetail(order_id='1e8bcdc3-7d7d-4e8f-9310-13d5853d35c3', payment_sequential=4, payment_type='boleto', payment_installments=1, payment_value=124.44), PaymentDetail(order_id='1e8bcdc3-7d7d-4e8f-9310-13d5853d35c3', payment_sequential=2, payment_type='credit_card', payment_installments=2, payment_value=114.77)], review=Review(review_id='bd1a8adb-1a27-4fd6-a78c-839744da35df', order_id='1e8bcdc3-7d7d-4e8f-9310-13d5853d35c3', review_score=3, review_comment_title=nan, review_comment_message=nan, review_creation_date='2018-08-17 00:00:00', review_answer_timestamp='2018-08-18 13:12:32'))\n"
     ]
    }
   ],
   "source": [
    "seeder = EcommerceSeeder()\n",
    "\n",
    "random_orders = seeder.generate_random_orders(10)\n",
    "for order in random_orders:\n",
    "    print(order)"
   ]
  }
 ],
 "metadata": {
  "kernelspec": {
   "display_name": ".venv",
   "language": "python",
   "name": "python3"
  },
  "language_info": {
   "codemirror_mode": {
    "name": "ipython",
    "version": 3
   },
   "file_extension": ".py",
   "mimetype": "text/x-python",
   "name": "python",
   "nbconvert_exporter": "python",
   "pygments_lexer": "ipython3",
   "version": "3.13.0"
  }
 },
 "nbformat": 4,
 "nbformat_minor": 2
}
